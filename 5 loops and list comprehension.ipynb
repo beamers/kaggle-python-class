{
 "cells": [
  {
   "cell_type": "markdown",
   "metadata": {
    "_uuid": "2ad38948776c185b60ab562c8494a76f40279532"
   },
   "source": [
    "These exercises accompany the tutorial on [loops and list comprehensions](https://www.kaggle.com/colinmorris/loops-and-list-comprehensions).\n",
    "\n",
    "As always, run the setup code below before working on the questions (and if you leave this notebook and come back later, remember to run the setup code again)."
   ]
  },
  {
   "cell_type": "code",
   "execution_count": null,
   "metadata": {
    "_uuid": "2c2120bdd802a1f04e7a55e58b25f413dcd83784"
   },
   "outputs": [],
   "source": [
    "# SETUP. You don't need to worry for now about what this code does or how it works. If you're ever curious about the \n",
    "# code behind these exercises, it's available under an open source license here: https://github.com/Kaggle/learntools/\n",
    "from learntools.core import binder; binder.bind(globals())\n",
    "from learntools.python.ex5 import *\n",
    "print('Setup complete.')"
   ]
  },
  {
   "cell_type": "markdown",
   "metadata": {
    "_uuid": "f4a445dc1641568b6e9566407bb386962568788d"
   },
   "source": [
    "# Exercises"
   ]
  },
  {
   "cell_type": "markdown",
   "metadata": {
    "_uuid": "c91697252ff5a207a77114e580d811bd4c93dd5b"
   },
   "source": [
    "## 1.\n",
    "\n",
    "Have you ever felt debugging involved a bit of luck? The following program has a bug. Try to identify the bug and fix it."
   ]
  },
  {
   "cell_type": "code",
   "execution_count": null,
   "metadata": {
    "_uuid": "d2ef91cedd49511c44eed8af245629da60e9fac8",
    "collapsed": true
   },
   "outputs": [],
   "source": [
    "def has_lucky_number(nums):\n",
    "    \"\"\"Return whether the given list of numbers is lucky. A lucky list contains\n",
    "    at least one number divisible by 7.\n",
    "    \"\"\"\n",
    "    for num in nums:\n",
    "        if num % 7 == 0:\n",
    "            return True\n",
    "        else:\n",
    "            return False"
   ]
  },
  {
   "cell_type": "markdown",
   "metadata": {
    "_uuid": "66a296030c61702ebe116b963351f61e96b56700"
   },
   "source": [
    "Try to identify the bug and fix it in the cell below:"
   ]
  },
  {
   "cell_type": "code",
   "execution_count": null,
   "metadata": {
    "_uuid": "492cba3eb2eb462970967c5ac3f512b96ed5c367"
   },
   "outputs": [],
   "source": [
    "def has_lucky_number(nums):\n",
    "    \"\"\"Return whether the given list of numbers is lucky. A lucky list contains\n",
    "    at least one number divisible by 7.\n",
    "    \"\"\"\n",
    "    return any([num % 7 == 0 for num in nums])\n",
    "    for num in nums:\n",
    "        if num % 7 == 0:\n",
    "            return True\n",
    "        else:\n",
    "            return False\n",
    "print(has_lucky_number)\n",
    "q1.check()"
   ]
  },
  {
   "cell_type": "code",
   "execution_count": null,
   "metadata": {
    "_uuid": "0a08f491cac8fd47be3710c7effb5c6953a45370"
   },
   "outputs": [],
   "source": [
    "q1.hint()\n",
    "q1.solution()"
   ]
  },
  {
   "cell_type": "markdown",
   "metadata": {
    "_uuid": "4e88080a55707dddf5b80ed38c4f008f88f12d16"
   },
   "source": [
    "## 2.\n",
    "\n",
    "### a.\n",
    "Look at the Python expression below. What do you think we'll get when we run it? When you've made your prediction, uncomment the code and run the cell to see if you were right."
   ]
  },
  {
   "cell_type": "code",
   "execution_count": null,
   "metadata": {
    "_uuid": "9c3891670ffba0f0063f30cdff5a2e3a97f33f06"
   },
   "outputs": [],
   "source": [
    "[1, 2, 3, 4] > 2"
   ]
  },
  {
   "cell_type": "markdown",
   "metadata": {
    "_uuid": "88c3da5db29c69b6e9426337e502fee377a9429a"
   },
   "source": [
    "### b\n",
    "If you’ve used R or certain Python libraries like numpy or pandas, you might have expected that when we ran the above code, Python would compare each element of the list to 2 (i.e. do an 'element-wise' comparison) and give us a list of booleans like `[False, False, True, True]`. \n",
    "\n",
    "Implement a function that reproduces this behaviour, returning a list of booleans corresponding to whether the corresponding element is greater than n.\n"
   ]
  },
  {
   "cell_type": "code",
   "execution_count": null,
   "metadata": {
    "_uuid": "38d2d15f8568bbe38ae6c603bec4f506b5770d8b"
   },
   "outputs": [],
   "source": [
    "def elementwise_greater_than(L, thresh):\n",
    "    \"\"\"Return a list with the same length as L, where the value at index i is \n",
    "    True if L[i] is greater than thresh, and False otherwise.\n",
    "    \n",
    "    >>> elementwise_greater_than([1, 2, 3, 4], 2)\n",
    "    [False, False, True, True]\n",
    "    \"\"\"\n",
    "    return [ele > thresh for ele in L]\n",
    "\n",
    "q2.check()"
   ]
  },
  {
   "cell_type": "code",
   "execution_count": null,
   "metadata": {
    "_uuid": "e372a389d2bbf5d8258c5c5ab03cebb846100d26"
   },
   "outputs": [],
   "source": [
    "q2.solution()"
   ]
  },
  {
   "cell_type": "markdown",
   "metadata": {
    "_uuid": "01742fa2cf7845673432f91b973dbf00fcb50395"
   },
   "source": [
    "## 3.\n",
    "\n",
    "Complete the body of the function below according to its docstring"
   ]
  },
  {
   "cell_type": "code",
   "execution_count": null,
   "metadata": {
    "_uuid": "554679839a54d23ebadc4ec07b47381ef921892c"
   },
   "outputs": [],
   "source": [
    "def menu_is_boring(meals):\n",
    "    \"\"\"Given a list of meals served over some period of time, return True if the\n",
    "    same meal has ever been served two days in a row, and False otherwise.\n",
    "    \"\"\"\n",
    "    for i in range(len(meals)-1):\n",
    "        if meals[i] == meals[i+1]:\n",
    "            return True\n",
    "        return False\n",
    "    \n",
    "\n",
    "q3.check()"
   ]
  },
  {
   "cell_type": "code",
   "execution_count": null,
   "metadata": {
    "_uuid": "9cb66afbf41e031ee16e6f12d13b9b10aeae90a8"
   },
   "outputs": [],
   "source": [
    "q3.hint()\n",
    "q3.solution()"
   ]
  },
  {
   "cell_type": "markdown",
   "metadata": {
    "_uuid": "46004b82e27fdf1cf734381d01ea51e3d17f7e21"
   },
   "source": [
    "## 4. <span title=\"A bit spicy\" style=\"color: darkgreen \">🌶️</span>\n",
    "\n",
    "Next to the Blackjack table, the Python Challenge Casino has a slot machine. You can get a result from the slot machine by calling `play_slot_machine()`. The number it returns is your winnings in dollars. Usually it returns 0.  But sometimes you'll get lucky and get a big payday. Try running it below:"
   ]
  },
  {
   "cell_type": "code",
   "execution_count": null,
   "metadata": {
    "_uuid": "e44554043fa86fc17db6c2dcf58735807a16839e"
   },
   "outputs": [],
   "source": [
    "play_slot_machine()"
   ]
  },
  {
   "cell_type": "markdown",
   "metadata": {
    "_uuid": "ef939ec54c449893f72ca77629a82849ec7b7af2"
   },
   "source": [
    "By the way, did we mention that each play costs $1? Don't worry, we'll send you the bill later.\n",
    "\n",
    "On average, how much money can you expect to gain (or lose) every time you play the machine?  The casino keeps it a secret, but you can estimate the average value of each pull using a technique called the **Monte Carlo method**. To estimate the average outcome, we simulate the scenario many times, and return the average result.\n",
    "\n",
    "Complete the following function to calculate the average value per play of the slot machine."
   ]
  },
  {
   "cell_type": "code",
   "execution_count": null,
   "metadata": {
    "_uuid": "432ae70b1f4bc0ba301abc4ec5a4583e0224f629"
   },
   "outputs": [],
   "source": [
    "def estimate_average_slot_payout(n_runs):\n",
    "    \"\"\"Run the slot machine n_runs times and return the average net profit per run.\n",
    "    Example calls (note that return value is nondeterministic!):\n",
    "    >>> estimate_average_slot_payout(1)\n",
    "    -1\n",
    "    >>> estimate_average_slot_payout(1)\n",
    "    0.5\n",
    "    \"\"\"\n",
    "    pass"
   ]
  },
  {
   "cell_type": "markdown",
   "metadata": {
    "_uuid": "e4e1b7cd3743506db10009edf00be070a14a8a20"
   },
   "source": [
    "When you think you know the expected value per spin, uncomment the line below to see how close you were."
   ]
  },
  {
   "cell_type": "code",
   "execution_count": null,
   "metadata": {
    "_uuid": "f7f96ad5f8c301dc8c2bb71a9b369a7ab082b5cc"
   },
   "outputs": [],
   "source": [
    "q4.solution()"
   ]
  },
  {
   "cell_type": "markdown",
   "metadata": {
    "_uuid": "a364765f29d60d629013688aafa9215193f2dfd4"
   },
   "source": [
    "## 5. <span title=\"Spicy\" style=\"color: coral\">🌶️🌶️</span>\n",
    "\n",
    "Gary wants to know how many spins he can play before running out of money. (Remember, each turn at the slot machine costs $1.)\n",
    "\n",
    "So, if he has $10, he can definitely play 10 spins (because he'll have enough money to pay for the 10th spin even if he never wins). But he could only play an 11th spin if his total winnings from the first 10 was enough to pay for the 11th spin. How likely is that?\n",
    "\n",
    "You will estimate the probability with the Monte Carlo method. That is, you will simulate the scenario many times, and return the proportion of simulations where he ran out of money before a desired number of spins. \n",
    "\n",
    "Complete the function below to estimate the probability that he can complete a given number of spins of the machine before running out of money."
   ]
  },
  {
   "cell_type": "code",
   "execution_count": null,
   "metadata": {
    "_uuid": "218a30db47bd86cfa51e67c4d2bfc094d5525456"
   },
   "outputs": [],
   "source": [
    "def slots_survival_probability(start_balance, n_spins, n_simulations):\n",
    "    \"\"\"Return the approximate probability (as a number between 0 and 1) that we can complete the \n",
    "    given number of spins of the slot machine before running out of money, assuming we start \n",
    "    with the given balance. Estimate the probability by running the scenario the specified number of times.\n",
    "    \n",
    "    >>> slots_survival_probability(10.00, 10, 1000)\n",
    "    1.0\n",
    "    >>> slots_survival_probability(1.00, 2, 1000)\n",
    "    .25\n",
    "    \"\"\"\n",
    "    for _ in range (n_simulations):\n",
    "        balance = start_balance\n",
    "        spins_left = n_spins\n",
    "        while balance >= 1 and spins_left:\n",
    "            # subtract the cost of playing\n",
    "            balance -= 1\n",
    "            balance += play_slot_machine()\n",
    "            spins_left -= 1\n",
    "        if spins_left == 0:\n",
    "            successes += 1\n",
    "        return successes / n_simulations\n",
    "    pass\n",
    "\n",
    "q5.check()"
   ]
  },
  {
   "cell_type": "code",
   "execution_count": null,
   "metadata": {
    "_uuid": "2c80983094a6840881134a39f1891ce19b36f5ea"
   },
   "outputs": [],
   "source": [
    "q5.solution()"
   ]
  },
  {
   "cell_type": "markdown",
   "metadata": {
    "_uuid": "1491f5786ebeae2ec83dac906bf9679270809728"
   },
   "source": [
    "If you have any questions, be sure to post them on the [forums](https://www.kaggle.com/learn-forum).\n",
    "\n",
    "Remember that your notebook is private by default, and in order to share it with other people or ask for help with it, you'll need to make it public. First, you'll need to save a version of your notebook that shows your current work by hitting the \"Commit & Run\" button. (Your work is saved automatically, but versioning your work lets you go back and look at what it was like at the point you saved it. It also let's you share a nice compiled notebook instead of just the raw code.) Then, once your notebook is finished running, you can go to the Settings tab in the panel to the left (you may have to expand it by hitting the [<] button next to the \"Commit & Run\" button) and setting the \"Visibility\" dropdown to \"Public\".\n",
    "\n",
    "# Keep Going\n",
    "\n",
    "When you're ready to continue, [click here](https://www.kaggle.com/colinmorris/strings-and-dictionaries) to continue on to the next tutorial on strings and dictionaries."
   ]
  }
 ],
 "metadata": {
  "kernelspec": {
   "display_name": "Python 3",
   "language": "python",
   "name": "python3"
  },
  "language_info": {
   "codemirror_mode": {
    "name": "ipython",
    "version": 3
   },
   "file_extension": ".py",
   "mimetype": "text/x-python",
   "name": "python",
   "nbconvert_exporter": "python",
   "pygments_lexer": "ipython3",
   "version": "3.6.5"
  },
  "learntools_metadata": {
   "lesson_index": 4,
   "type": "exercise"
  }
 },
 "nbformat": 4,
 "nbformat_minor": 1
}
