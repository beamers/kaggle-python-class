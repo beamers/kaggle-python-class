{
 "cells": [
  {
   "cell_type": "markdown",
   "metadata": {
    "_uuid": "6b1e63ba7400c31bc3c4f33d5a2ed75579283820"
   },
   "source": [
    "These exercises accompany the tutorial on [strings and dictionaries](https://www.kaggle.com/colinmorris/strings-and-dictionaries).\n",
    "\n",
    "Run the setup code below before working on the questions (and run it again if you leave this notebook and come back later)."
   ]
  },
  {
   "cell_type": "code",
   "execution_count": null,
   "metadata": {
    "_uuid": "f476c2cd5224fad025895cf7d70ec53fcf44059c"
   },
   "outputs": [],
   "source": [
    "# SETUP. You don't need to worry for now about what this code does or how it works. If you're ever curious about the \n",
    "# code behind these exercises, it's available under an open source license here: https://github.com/Kaggle/learntools/\n",
    "from learntools.core import binder; binder.bind(globals())\n",
    "from learntools.python.ex6 import *\n",
    "print('Setup complete.')"
   ]
  },
  {
   "cell_type": "markdown",
   "metadata": {
    "_uuid": "9c875a1bb816d3aab63c4d4f0109f5c4b8286b40"
   },
   "source": [
    "# Exercises"
   ]
  },
  {
   "cell_type": "markdown",
   "metadata": {
    "_uuid": "8454a8af37df75c53634b8ff40b8beb5fd917197"
   },
   "source": [
    "## 0. \n",
    "\n",
    "Let's start with a string lightning round to warm up. What are the lengths of the strings below?\n",
    "\n",
    "For each of the five strings below, predict what `len()` would return when passed that string. Use the variable `length` to record your answer, then run the cell to check whether you were right."
   ]
  },
  {
   "cell_type": "code",
   "execution_count": null,
   "metadata": {
    "_uuid": "d4586ec57d5a98b18f6a71ece21c596d725bf436"
   },
   "outputs": [],
   "source": [
    "help(len)\n"
   ]
  },
  {
   "cell_type": "code",
   "execution_count": null,
   "metadata": {
    "_uuid": "5f753469cba43c8743292d4d6c396d2e6469020c"
   },
   "outputs": [],
   "source": [
    "a = \"\"\n",
    "length = -1\n",
    "q0.a.check()"
   ]
  },
  {
   "cell_type": "code",
   "execution_count": null,
   "metadata": {
    "_uuid": "a3ce89d7d7a8f5a6f5c3b2c366963491fe723e0a"
   },
   "outputs": [],
   "source": [
    "b = \"it's ok\"\n",
    "length = -1\n",
    "q0.b.check()"
   ]
  },
  {
   "cell_type": "code",
   "execution_count": null,
   "metadata": {
    "_uuid": "0d5f7448d87ad86aac0df2e15befe373662e9f75",
    "collapsed": true
   },
   "outputs": [],
   "source": [
    "c = 'it\\'s ok'\n",
    "length = -1\n",
    "q0.c.check()"
   ]
  },
  {
   "cell_type": "code",
   "execution_count": null,
   "metadata": {
    "_uuid": "567873984c6945fdd76bc91e7d086d4491dff462",
    "collapsed": true
   },
   "outputs": [],
   "source": [
    "d = \"\"\"hey\"\"\"\n",
    "length = -1\n",
    "q0.d.check()"
   ]
  },
  {
   "cell_type": "code",
   "execution_count": null,
   "metadata": {
    "_uuid": "d146efc9c2db021e31d15a8ef7847df23e4d01a8",
    "collapsed": true
   },
   "outputs": [],
   "source": [
    "e = '\\n'\n",
    "length = -1\n",
    "q0.e.check()"
   ]
  },
  {
   "cell_type": "markdown",
   "metadata": {
    "_uuid": "b896bb21df8236f83329e4ab5953aadd3836d10f"
   },
   "source": [
    "## 1.\n",
    "\n",
    "There is a saying that \"Data scientists spend 80% of their time cleaning data, and 20% of their time complaining about cleaning data.\" Let's see if you can write a function to help clean US zip code data. Given a string, it should return whether or not that string represents a valid zip code. For our purposes, a valid zip code is any string consisting of exactly 5 digits.\n",
    "\n",
    "HINT: `str` has a method that will be useful here. Use `help(str)` to review a list of string methods."
   ]
  },
  {
   "cell_type": "code",
   "execution_count": null,
   "metadata": {
    "_uuid": "8b3d6d14e471f0ca42b0b55599cb152d021377ab"
   },
   "outputs": [],
   "source": [
    "# help(str)\n",
    "help(str.isdigit)"
   ]
  },
  {
   "cell_type": "code",
   "execution_count": null,
   "metadata": {
    "_uuid": "5ef8666f3d742df2216cdd5133e500f80e69275e"
   },
   "outputs": [],
   "source": [
    "def is_valid_zip(zip_code):\n",
    "    \"\"\"Returns whether the input string is a valid (5 digit) zip code\n",
    "    \"\"\"\n",
    "    return len(zip_str) == 5 and zip_str.isdigit()\n",
    "    pass\n",
    "\n",
    "q1.check()"
   ]
  },
  {
   "cell_type": "code",
   "execution_count": null,
   "metadata": {
    "_uuid": "e03ee44f6d3de7f3f09190cda4b60ba94f14c51f"
   },
   "outputs": [],
   "source": [
    "q1.hint()\n",
    "q1.solution()"
   ]
  },
  {
   "cell_type": "markdown",
   "metadata": {
    "_uuid": "7a48ef3216b32899a4ef662526fc5299b5e8faf9"
   },
   "source": [
    "## 2.\n",
    "\n",
    "A researcher has gathered thousands of news articles. But she wants to focus her attention on articles including a specific word. Complete the function below to help her filter her list of articles.\n",
    "\n",
    "Your function should meet the following criteria\n",
    "\n",
    "- Do not include documents where the keyword string shows up only as a part of a larger word. For example, if she were looking for the keyword “closed”, you would not include the string “enclosed.” \n",
    "- She does not want you to distinguish upper case from lower case letters. So the phrase “Closed the case.” would be included when the keyword is “closed”\n",
    "- Do not let periods or commas affect what is matched. “It is closed.” would be included when the keyword is “closed”. But you can assume there are no other types of punctuation."
   ]
  },
  {
   "cell_type": "code",
   "execution_count": null,
   "metadata": {
    "_uuid": "1c50f4ec93c01cbda07e93c3f0a98697149e98b5"
   },
   "outputs": [],
   "source": [
    "def word_search(doc_list, keyword):\n",
    "\n",
    "    \"\"\"\n",
    "    Takes a list of documents (each document is a string) and a keyword. \n",
    "    Returns list of the index values into the original list for all documents \n",
    "    containing the keyword.\n",
    "\n",
    "    Example:\n",
    "    doc_list = [\"The Learn Python Challenge Casino.\", \"They bought a car\", \"Casinoville\"]\n",
    "    >>> word_search(doc_list, 'casino')\n",
    "    >>> [0]\n",
    "    \"\"\"\n",
    "    pass\n",
    "def word_search(documents, keyword):\n",
    "    for i, doc in enumerate(documents):\n",
    "        tokens = doc.split()\n",
    "        normalized = [token.rstrip('.,').lower() for token in tokens]\n",
    "        if keyword.lower() in normalized:\n",
    "            indices.append(i)\n",
    "        return indices \n",
    "        \n",
    "q2.check()"
   ]
  },
  {
   "cell_type": "code",
   "execution_count": null,
   "metadata": {
    "_uuid": "7cf18c5a6d34b85857011b9a846269a57c77e5d2"
   },
   "outputs": [],
   "source": [
    "#q2.hint()\n",
    "q2.solution()"
   ]
  },
  {
   "cell_type": "markdown",
   "metadata": {
    "_uuid": "dd074cded7763573c775a44f10b6d2bfba5a4bb4"
   },
   "source": [
    "## 3.\n",
    "\n",
    "Now the researcher wants to supply multiple keywords to search for. Complete the function below to help her.\n",
    "\n",
    "(You're encouraged to use the `word_search` function you just wrote when implementing this function. Reusing code in this way makes your programs more robust and readable - and it saves typing!)"
   ]
  },
  {
   "cell_type": "code",
   "execution_count": null,
   "metadata": {
    "_uuid": "e9b7e8ef50e887ae3fc794ff0548dec5013d961c"
   },
   "outputs": [],
   "source": [
    "def multi_word_search(doc_list, keywords):\n",
    "    \"\"\"\n",
    "    Takes list of documents (each document is a string) and a list of keywords.  \n",
    "    Returns a dictionary where each key is a keyword, and the value is a list of indices\n",
    "    (from doc_list) of the documents containing that keyword\n",
    "\n",
    "    >>> doc_list = [\"The Learn Python Challenge Casino.\", \"They bought a car and a casino\", \"Casinoville\"]\n",
    "    >>> keywords = ['casino', 'they']\n",
    "    >>> multi_word_search(doc_list, keywords)\n",
    "    {'casino': [0, 1], 'they': [1]}\n",
    "    \"\"\"\n",
    "    def multi_word_search(documents, keywords):\n",
    "        keyword_to_indices = {}\n",
    "        for keyword in keywords:\n",
    "            keyword_to_indices[keyword] = word_search(documents, keyword)\n",
    "        return keyword_to_indices\n",
    "    pass\n",
    "\n",
    "q3.check()"
   ]
  },
  {
   "cell_type": "code",
   "execution_count": null,
   "metadata": {
    "_uuid": "bff191e0b6ca8e198b59c7691d07c1c3980018ad"
   },
   "outputs": [],
   "source": [
    "q3.solution()"
   ]
  },
  {
   "cell_type": "markdown",
   "metadata": {
    "_uuid": "47dd6d8b99be0057f481639bd18b7442e1b30d94"
   },
   "source": [
    "## 4. <span title=\"Spicy\" style=\"color: coral\">🌶️🌶️</span>\n",
    "\n",
    "Diamonds are beautiful, but they are just so expensive. Write a python program to create counterfeit ASCII diamonds such as the following:\n",
    "```\n",
    "    /\\\n",
    "   //\\\\\n",
    "  ///\\\\\\\n",
    " ////\\\\\\\\\n",
    "/////\\\\\\\\\\\n",
    "\\\\\\\\\\/////\n",
    " \\\\\\\\////\n",
    "  \\\\\\///\n",
    "   \\\\//\n",
    "    \\/\n",
    "```\n",
    "\n",
    "Your function should allow the caller to choose the size of the diamond (in terms of number of lines). The above diamond has a height of 10. Here's a 4-line diamond:\n",
    "\n",
    "```\n",
    " /\\ \n",
    "//\\\\\n",
    "\\\\//\n",
    " \\/ \n",
    "```\n",
    "\n",
    "(You can assume your function will only be called with even numbers)"
   ]
  },
  {
   "cell_type": "code",
   "execution_count": null,
   "metadata": {
    "_uuid": "5915302e028d81458a5dc976896b3bee0c58680e"
   },
   "outputs": [],
   "source": [
    "def diamond(height):\n",
    "    \"\"\"Return a string resembling a diamond of specified height (measured in lines).\n",
    "    height must be an even integer.\n",
    "    \"\"\"\n",
    "    pass\n",
    "d4 = /\\\\\n",
    "//\\\\\\\\\n",
    "\\\\\\\\//\n",
    "\\\\/ \n",
    "print(d4)\n",
    "\n",
    "q4.check()"
   ]
  },
  {
   "cell_type": "markdown",
   "metadata": {
    "_uuid": "a389859eda623c78274d158787c826af8e4c0910"
   },
   "source": [
    "We've provided an example height-4 diamond below as a Python string. It may help to inspect it in the console."
   ]
  },
  {
   "cell_type": "code",
   "execution_count": null,
   "metadata": {
    "_uuid": "7482f9471a0a335bf15b9d968ec6125efa326b63"
   },
   "outputs": [],
   "source": [
    "d4 = \"\"\" /\\\\ \n",
    "//\\\\\\\\\n",
    "\\\\\\\\//\n",
    " \\\\/ \"\"\"\n",
    "print(d4)"
   ]
  },
  {
   "cell_type": "code",
   "execution_count": null,
   "metadata": {
    "_uuid": "c05538a3c28b9837830046e289981cffe5607206",
    "collapsed": true
   },
   "outputs": [],
   "source": [
    "#q4.hint()\n",
    "#q4.solution()"
   ]
  },
  {
   "cell_type": "markdown",
   "metadata": {
    "_uuid": "e613944e66d85b9781dfc9f0d76ab1a411499d91"
   },
   "source": [
    "## 5. <span title=\"Spicy\" style=\"color: coral\">🌶️🌶️</span>\n",
    "\n",
    "Dice may not have any memory, but apparently the roulette wheel at the Learn Challenge Casino does. You’ve received a tip-off that the wheel has some exploitable bias where the probability of landing on a given number changes depending on the number previously landed on. Analyze a list containing a history of roulette spins. \n",
    "\n",
    "Return a dictionary where the keys are numbers on the roulette wheel, and the values are dictionaries mapping numbers on the wheel to probabilities, such that `d[n1][n2]` is an estimate of the probability that the next spin will land on n2, given that the previous spin landed on n1."
   ]
  },
  {
   "cell_type": "code",
   "execution_count": null,
   "metadata": {
    "_uuid": "0c8a5f44404c6c422dc1219e849c3b1a8ea0a665",
    "collapsed": true
   },
   "outputs": [],
   "source": [
    "def conditional_roulette_probs(history):\n",
    "    \"\"\"\n",
    "\n",
    "    Example: \n",
    "    conditional_roulette_probs([1, 3, 1, 5, 1])\n",
    "    > {1: {3: 0.5, 5: 0.5}, \n",
    "       3: {1: 1.0},\n",
    "       5: {1: 1.0}\n",
    "      }\n",
    "    \"\"\"\n",
    "    pass\n",
    "\n",
    "\n",
    "q5.check()"
   ]
  },
  {
   "cell_type": "code",
   "execution_count": null,
   "metadata": {
    "_uuid": "5a8ff9f943c45a4cd833dfac87c28c0e4019addc"
   },
   "outputs": [],
   "source": [
    "q5.solution()"
   ]
  },
  {
   "cell_type": "markdown",
   "metadata": {
    "_uuid": "6ea62712d00c693fd832f4a4cd97c5d65416e31f"
   },
   "source": [
    "If you have any questions, be sure to post them on the [forums](https://www.kaggle.com/learn-forum).\n",
    "\n",
    "Remember that your notebook is private by default, and in order to share it with other people or ask for help with it, you'll need to make it public. First, you'll need to save a version of your notebook that shows your current work by hitting the \"Commit & Run\" button. (Your work is saved automatically, but versioning your work lets you go back and look at what it was like at the point you saved it. It also let's you share a nice compiled notebook instead of just the raw code.) Then, once your notebook is finished running, you can go to the Settings tab in the panel to the left (you may have to expand it by hitting the [<] button next to the \"Commit & Run\" button) and setting the \"Visibility\" dropdown to \"Public\".\n",
    "\n",
    "# Keep Going\n",
    "\n",
    "When you're ready to continue, [click here](https://www.kaggle.com/colinmorris/working-with-external-libraries) to continue on to the next tutorial on imports."
   ]
  }
 ],
 "metadata": {
  "kernelspec": {
   "display_name": "Python 3",
   "language": "python",
   "name": "python3"
  },
  "language_info": {
   "codemirror_mode": {
    "name": "ipython",
    "version": 3
   },
   "file_extension": ".py",
   "mimetype": "text/x-python",
   "name": "python",
   "nbconvert_exporter": "python",
   "pygments_lexer": "ipython3",
   "version": "3.6.5"
  },
  "learntools_metadata": {
   "lesson_index": 5,
   "type": "exercise"
  }
 },
 "nbformat": 4,
 "nbformat_minor": 1
}
