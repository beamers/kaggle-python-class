{
 "cells": [
  {
   "cell_type": "markdown",
   "metadata": {
    "_uuid": "9816142167a69261fd159e39c223186009aaacb3"
   },
   "source": [
    "These exercises accompany the tutorial on [functions and getting help](https://www.kaggle.com/colinmorris/functions-and-getting-help).\n",
    "\n",
    "As before, don't forget to run the setup code below before jumping into question 1."
   ]
  },
  {
   "cell_type": "code",
   "execution_count": null,
   "metadata": {
    "_kg_hide-input": true,
    "_kg_hide-output": true,
    "_uuid": "5fdd9b704e628f4a2e7db562765d4ef0be9c7794"
   },
   "outputs": [],
   "source": [
    "# SETUP. You don't need to worry for now about what this code does or how it works. If you're ever curious about the \n",
    "# code behind these exercises, it's available under an open source license here: https://github.com/Kaggle/learntools/\n",
    "from learntools.core import binder; binder.bind(globals())\n",
    "from learntools.python.ex2 import *\n",
    "print('Setup complete.')"
   ]
  },
  {
   "cell_type": "markdown",
   "metadata": {
    "_uuid": "ca67520b2f79413ca5f278346e60d0e61b8f0abc"
   },
   "source": [
    "# Exercises"
   ]
  },
  {
   "cell_type": "markdown",
   "metadata": {
    "_uuid": "3fd48dddff9de9fa27cb5f46fc7cba1d5d6a1d58"
   },
   "source": [
    "## 1.\n",
    "\n",
    "Complete the body of the following function according to its docstring.\n",
    "\n",
    "HINT: Python has a builtin function `round`"
   ]
  },
  {
   "cell_type": "code",
   "execution_count": null,
   "metadata": {
    "_uuid": "353cd29c6cacb54c76b36119348e047b2b09d6a5"
   },
   "outputs": [],
   "source": [
    "def round_to_two_places(num):\n",
    "    \"\"\"Return the given number rounded to two decimal places. \n",
    "    \n",
    "    >>> round_to_two_places(3.14159)\n",
    "    3.14\n",
    "    \"\"\"\n",
    "    \n",
    "    return round(num, 2)\n",
    "        \n",
    "    # Replace this body with your own code.\n",
    "    # (\"pass\" is a keyword that does literally nothing. We used it as a placeholder\n",
    "    # because after we begin a code block, Python requires at least one line of code)\n",
    "    pass\n",
    "help(round)\n",
    "q1.hint()\n",
    "q1.solution()\n",
    "q1.check()"
   ]
  },
  {
   "cell_type": "code",
   "execution_count": null,
   "metadata": {
    "_uuid": "2a4e492d8d064a4f7301b180e0766dbe58b59e66",
    "collapsed": true
   },
   "outputs": [],
   "source": [
    "# Uncomment the following for a hint\n",
    "#q1.hint()\n",
    "# Or uncomment the following to peek at the solution\n",
    "#q1.solution()"
   ]
  },
  {
   "cell_type": "markdown",
   "metadata": {
    "_uuid": "ac69c28f946a2bbca3b8fb189286be1297b3bc7e",
    "collapsed": true
   },
   "source": [
    "## 2.\n",
    "The help for `round` says that `ndigits` (the second argument) may be negative.\n",
    "What do you think will happen when it is? Try out some examples in the console (at the bottom of the editor) or in a new code cell.\n",
    "\n",
    "Can you think of a case where this would be useful?"
   ]
  },
  {
   "cell_type": "code",
   "execution_count": null,
   "metadata": {
    "_uuid": "e3445609a3f45e43400be07be98976e268865c3d"
   },
   "outputs": [],
   "source": [
    "q2.solution()"
   ]
  },
  {
   "cell_type": "code",
   "execution_count": null,
   "metadata": {
    "_uuid": "822ba8051f31eaf3fd50db0430236bd00e73aff2",
    "collapsed": true
   },
   "outputs": [],
   "source": [
    "#q2.solution()"
   ]
  },
  {
   "cell_type": "markdown",
   "metadata": {
    "_uuid": "8ac97d7464461ca9e2f0902db1cc8e1f2f9f842f"
   },
   "source": [
    "## 3.\n",
    "\n",
    "In the last exercise, I introduced candy-sharing friends Alice, Bob and Carol. As a reminder, they have some candies which they plan to split evenly among themselves. For the sake of their friendship, any candies left over would be smashed. For example, if they collectively bring home 91 candies, they'll take 30 each and smash 1.\n",
    "\n",
    "Earlier, you wrote some code to calculate how many candies they'd have to smash, assuming they collected a particular number.\n",
    "\n",
    "Below is a simple function that will calculate the number of candies to smash for *any* number of total candies.\n",
    "\n",
    "Modify it so that it optionally takes a second argument representing the number of friends the candies are being split between. If no second argument is provided, it should assume 3 friends, as before.\n",
    "\n",
    "If you're feeling extra fastidious, update the docstring to reflect this new behaviour (but we won't be checking for this)."
   ]
  },
  {
   "cell_type": "code",
   "execution_count": null,
   "metadata": {
    "_uuid": "e056135647f3eec14349a580b448d607e95ae1ea"
   },
   "outputs": [],
   "source": [
    "def to_smash(total_candies, n_friends=3):\n",
    "    \"\"\"Return the number of leftover candies that must be smashed after distributing\n",
    "    the given number of candies evenly between 3 friends.\n",
    "    \n",
    "    >>> to_smash(91)\n",
    "    1\n",
    "    \"\"\"\n",
    "    return total_candies % n_friends\n",
    "\n",
    "q3.check()"
   ]
  },
  {
   "cell_type": "code",
   "execution_count": null,
   "metadata": {
    "_uuid": "8d562719f4b2e614a2aa357febac9745e87040bb"
   },
   "outputs": [],
   "source": [
    "q3.hint()"
   ]
  },
  {
   "cell_type": "code",
   "execution_count": null,
   "metadata": {
    "_uuid": "c92dadbd8c64fc7e97602f71f116e6748cd427a6"
   },
   "outputs": [],
   "source": [
    "q3.solution()"
   ]
  },
  {
   "cell_type": "markdown",
   "metadata": {
    "_uuid": "4970011c95cfdb4e2f50852782dc1105279c0e5e"
   },
   "source": [
    "## 4.\n",
    "\n",
    "It may not be fun, but reading and understanding error messages will be an important part of your Python career.\n",
    "\n",
    "Each code cell below contains some commented-out buggy code. For each cell...\n",
    "\n",
    "1. Read the code and predict what you think will happen when it's run.\n",
    "2. Then uncomment the code and run it to see what happens. (**Tip**: In the kernel editor, you can highlight several lines and press `ctrl`+`/` to toggle commenting.)\n",
    "3. Fix the code (so that it accomplishes its intended purpose without throwing an exception)\n",
    "\n",
    "<!-- TODO: should this be autochecked? Delta is probably pretty small. -->"
   ]
  },
  {
   "cell_type": "code",
   "execution_count": null,
   "metadata": {
    "_uuid": "4774a506f83d74830cc35445952225b0222e0507"
   },
   "outputs": [],
   "source": [
    " round_to_two_places(9.9999)"
   ]
  },
  {
   "cell_type": "code",
   "execution_count": null,
   "metadata": {
    "_kg_hide-input": true,
    "_kg_hide-output": true,
    "_uuid": "20e5f060f04505f4c73cb3634707f5969c7445bc"
   },
   "outputs": [],
   "source": [
    "x = -10\n",
    "y = 5\n",
    "# # Which of the two variables above has the smallest absolute value?\n",
    "\n",
    "def smallest_abs (x, y):\n",
    "    a1 = abs (x)\n",
    "    a2 = abs (y)\n",
    "    return min(a1, a2)\n",
    "print (smallest_abs (x,y))"
   ]
  },
  {
   "cell_type": "code",
   "execution_count": null,
   "metadata": {
    "_uuid": "e25c5f287560f98376585eb783edf1483a597ea5"
   },
   "outputs": [],
   "source": [
    "def f(x):\n",
    "    y = abs(x)\n",
    "    return y\n",
    "print(f(5))"
   ]
  },
  {
   "cell_type": "markdown",
   "metadata": {
    "_uuid": "d24e29c08093144410a5fe32daa2436e68ec42ee"
   },
   "source": [
    "## 5. <span title=\"A bit spicy\" style=\"color: darkgreen \">🌶️</span>\n",
    "\n",
    "For this question, we'll be using two functions imported from Python's `time` module.\n",
    "\n",
    "The [time](https://docs.python.org/3/library/time.html#time.time) function returns the number of seconds that have passed since the Epoch (aka [Unix time](https://en.wikipedia.org/wiki/Unix_time)). \n",
    "\n",
    "<!-- We've provided a function called `seconds_since_epoch` which returns the number of seconds that have passed since the Epoch (aka [Unix time](https://en.wikipedia.org/wiki/Unix_time)). -->\n",
    "\n",
    "Try it out below. Each time you run it, you should get a slightly larger number."
   ]
  },
  {
   "cell_type": "code",
   "execution_count": null,
   "metadata": {
    "_uuid": "37f2de49231486effee5bde37b11829d1ee7fcde"
   },
   "outputs": [],
   "source": [
    "# Importing the function 'time' from the module of the same name. \n",
    "# (We'll discuss imports in more depth later)\n",
    "from time import time\n",
    "t = time()\n",
    "print(t, \"seconds since the Epoch\")"
   ]
  },
  {
   "cell_type": "markdown",
   "metadata": {
    "_uuid": "e90982441ff81aba4ddef8089cb9255b0e68d6ac"
   },
   "source": [
    "We'll also be using a function called [sleep](https://docs.python.org/3/library/time.html#time.sleep), which makes us wait some number of seconds while it does nothing particular. (Sounds useful, right?)\n",
    "\n",
    "You can see it in action by running the cell below:"
   ]
  },
  {
   "cell_type": "code",
   "execution_count": null,
   "metadata": {
    "_uuid": "3b9e885783930d5b23f01d1a58682b7028697879"
   },
   "outputs": [],
   "source": [
    "from time import sleep\n",
    "duration = 5\n",
    "print(\"Getting sleepy. See you in\", duration, \"seconds\")\n",
    "sleep(duration)\n",
    "print(\"I'm back. What did I miss?\")"
   ]
  },
  {
   "cell_type": "markdown",
   "metadata": {
    "_uuid": "cd8a24092cd7769afd973f06998cd760f81b97a5"
   },
   "source": [
    "With the help of these functions, complete the function `time_call` below according to its docstring.\n",
    "\n",
    "<!-- (The sleep function will be useful for testing here since we have a pretty good idea of what something like `time_call(sleep, 1)` should return.) -->"
   ]
  },
  {
   "cell_type": "code",
   "execution_count": null,
   "metadata": {
    "_uuid": "fb6ab74f332c312b4222f0c87e94a194c0302a1e"
   },
   "outputs": [],
   "source": [
    "def time_call(fn, arg):\n",
    "    \"\"\"Return the amount of time the given function takes (in seconds) when called with the given argument.\n",
    "    \"\"\"\n",
    "    t1 = time() #time before\n",
    "    fn(arg)\n",
    "    t2 = time() #time after\n",
    "    Time_taken = t2-t1 #difference in time\n",
    "    return Time_taken\n",
    "pass\n",
    "time_call(sleep, 2)\n"
   ]
  },
  {
   "cell_type": "markdown",
   "metadata": {
    "_uuid": "d6a339335ce7927507c6e0c30d600fc86bf363c1"
   },
   "source": [
    "How can you verify that `time_call` is working correctly? (There's no `q5.check()` function for this question - testing your solution is part of your challenge.)"
   ]
  },
  {
   "cell_type": "code",
   "execution_count": null,
   "metadata": {
    "_uuid": "e05d9b19728e7c6e79efa20107a16f53e968cd55"
   },
   "outputs": [],
   "source": [
    "q5.hint()"
   ]
  },
  {
   "cell_type": "code",
   "execution_count": null,
   "metadata": {
    "_uuid": "426bd4ecd6dabaf4bf8c72c393d3d5b548e49746"
   },
   "outputs": [],
   "source": [
    "q5.solution()"
   ]
  },
  {
   "cell_type": "markdown",
   "metadata": {
    "_uuid": "cd1e3390454909f097dc230bf39aa6214bad30e0"
   },
   "source": [
    "## 6. <span title=\"A bit spicy\" style=\"color: darkgreen \">🌶️</span>\n",
    "\n",
    "*Note: this question depends on a working solution to the previous question.*\n",
    "\n",
    "Complete the function below according to its docstring."
   ]
  },
  {
   "cell_type": "code",
   "execution_count": null,
   "metadata": {
    "_uuid": "103aa4b2d85503a4c668b1687f9d1e8e90577638"
   },
   "outputs": [],
   "source": [
    "def slowest_call(fn, arg1, arg2, arg3):\n",
    "    \"\"\"Return the amount of time taken by the slowest of the following function\n",
    "    calls: fn(arg1), fn(arg2), fn(arg3)\n",
    "    \"\"\"\n",
    "    t1 = time_call(fn, arg1)\n",
    "    t2 = time_call(fn, arg2)\n",
    "    t3 = time_call(fn, arg3)\n",
    "    return max(t1, t2, t3) #max time taken =  slowest time\n",
    "    pass"
   ]
  },
  {
   "cell_type": "code",
   "execution_count": null,
   "metadata": {
    "_uuid": "d3472a93569d8de68e23f093c83375c13d7a05e1"
   },
   "outputs": [],
   "source": [
    "q6.hint()"
   ]
  },
  {
   "cell_type": "code",
   "execution_count": null,
   "metadata": {
    "_uuid": "670b93cb0611309ad6270ac876b973529a98244f"
   },
   "outputs": [],
   "source": [
    "q6.solution()"
   ]
  },
  {
   "cell_type": "markdown",
   "metadata": {
    "_uuid": "c5526b85a7ef3e49db55d99427abb4e94c3bd9d6"
   },
   "source": [
    "\n",
    "\n",
    "## 7. <span title=\"A bit spicy\" style=\"color: darkgreen \">🌶️</span>\n",
    "\n",
    "What will Python display after we run the following (weird) code? Think carefully about the order in which Python will evaluate each part. When you have a prediction, uncomment and run the code to check whether you were correct."
   ]
  },
  {
   "cell_type": "code",
   "execution_count": null,
   "metadata": {
    "_uuid": "7ce609748605490f8fb4c3f8d260a073015e4d97"
   },
   "outputs": [],
   "source": [
    "print(print(\"Spam\"))"
   ]
  },
  {
   "cell_type": "code",
   "execution_count": null,
   "metadata": {
    "_uuid": "7466a12a04a57396cd51156e14f9e334f80bf27a",
    "collapsed": true
   },
   "outputs": [],
   "source": [
    "#q7.hint()"
   ]
  },
  {
   "cell_type": "code",
   "execution_count": null,
   "metadata": {
    "_uuid": "fb66f63ed2f8e08105633d7b5debb2bc0f77b255"
   },
   "outputs": [],
   "source": [
    "# Uncomment for an explanation.\n",
    "q7.solution()"
   ]
  },
  {
   "cell_type": "markdown",
   "metadata": {
    "_uuid": "7c5211f04c6e871287161a5ad1113d83cf72edb6"
   },
   "source": [
    "## 8. <span title=\"Spicy - this optional problem is intended to be extra difficult\" style=\"color: coral\">🌶️🌶️</span>\n",
    "\n",
    "Read the function definition below. What do you think will be returned by the function call at the bottom of the cell? Will it match the docstring example? Return something else? Or will Python raise an exception? When you're ready, run the code cell to find out."
   ]
  },
  {
   "cell_type": "code",
   "execution_count": null,
   "metadata": {
    "_uuid": "359d5f5e2cf6c75260e11cf13bbfc3ece4e90c46"
   },
   "outputs": [],
   "source": [
    "def smallest_stringy_number(s1, s2, s3):\n",
    "    \"\"\"Return whichever of the three string arguments represents the smallest number.\n",
    "    \n",
    "    >>> smallest_stringy_number('1', '2', '3')\n",
    "    '1'\n",
    "    \"\"\"\n",
    "    return min(s1, s2, s3)\n",
    "\n",
    "smallest_stringy_number('1', '2', '3')"
   ]
  },
  {
   "cell_type": "markdown",
   "metadata": {
    "_uuid": "a806ee81afe7166069a70fc406dd035902100f41"
   },
   "source": [
    "<br/><br/><br/><br/><br/><br/><br/><br/><br/>\n",
    "\n",
    "(If you thought it would raise an exception, that's a perfectly reasonable guess. A large portion of learning Python is just trying stuff out and seeing what happens! A lot of arbitrary or at least subjective decisions go into designing a programming language, and it's not always possible to deduce from first principles how Python will handle a particular situation.)\n",
    "\n",
    "But in this case, the `min` function gamely accepts our string inputs and seems to work as desired! Or, at least on the example in the docstring. However, there's a subtle problem afoot. Try experimenting with the function to see if you can find a set of inputs where it fails. Can you see where it's going wrong?"
   ]
  },
  {
   "cell_type": "code",
   "execution_count": null,
   "metadata": {
    "_uuid": "90054fdf5a46d03b39864932bf52075253eedfe6"
   },
   "outputs": [],
   "source": [
    "q8.a.solution()"
   ]
  },
  {
   "cell_type": "markdown",
   "metadata": {
    "_uuid": "b497bab80ab63da35a242b90d1a2598e0c505711"
   },
   "source": [
    "### b.\n",
    "\n",
    "In the cell below, modify `smallest_stringy_number` to fix the bug you identified in part a.\n",
    "\n",
    "Reminder: [In the first lesson](https://www.kaggle.com/colinmorris/hello-python), we briefly saw that `int` can be called on strings such as `'32'` to get the corresponding integer value.\n",
    "\n",
    "**Bonus**: Can you keep the function's body down to one line? (Try to only use tools we've seen so far - i.e. no loops, conditionals, etc.)"
   ]
  },
  {
   "cell_type": "code",
   "execution_count": null,
   "metadata": {
    "_uuid": "3fda547086ee2a80b6c592397fed89b802fd5f2f"
   },
   "outputs": [],
   "source": [
    "def smallest_stringy_number(s1, s2, s3):\n",
    "    \"\"\"Return whichever of the three string arguments represents the smallest number.\n",
    "    \n",
    "    >>> smallest_stringy_number('1', '2', '3')\n",
    "    '1'\n",
    "    \"\"\"\n",
    "    return min(s1, s2, s3, key=int)\n",
    "\n",
    "q8.b.check()"
   ]
  },
  {
   "cell_type": "code",
   "execution_count": null,
   "metadata": {
    "_uuid": "9266dd043f16f130e4d9460da9e8521a24106309"
   },
   "outputs": [],
   "source": [
    "q8.b.hint()"
   ]
  },
  {
   "cell_type": "code",
   "execution_count": null,
   "metadata": {
    "_uuid": "168ed60d1760fff3ed1ab5e3b3bc399f86dd4d2e"
   },
   "outputs": [],
   "source": [
    "q8.b.solution()"
   ]
  },
  {
   "cell_type": "markdown",
   "metadata": {
    "_uuid": "74f2f1528ac7ce7dfba5505de0ad74a17372506c"
   },
   "source": [
    "If you have any questions, be sure to post them on the [forums](https://www.kaggle.com/learn-forum).\n",
    "\n",
    "Remember that your notebook is private by default, and in order to share it with other people or ask for help with it, you'll need to make it public. First, you'll need to save a version of your notebook that shows your current work by hitting the \"Commit & Run\" button. (Your work is saved automatically, but versioning your work lets you go back and look at what it was like at the point you saved it. It also let's you share a nice compiled notebook instead of just the raw code.) Then, once your notebook is finished running, you can go to the Settings tab in the panel to the left (you may have to expand it by hitting the [<] button next to the \"Commit & Run\" button) and setting the \"Visibility\" dropdown to \"Public\".\n",
    "\n",
    "# Keep Going\n",
    "\n",
    "When you're ready to continue, [click here](https://www.kaggle.com/colinmorris/booleans-and-conditionals) to continue on to the next tutorial on booleans and conditionals."
   ]
  }
 ],
 "metadata": {
  "kernelspec": {
   "display_name": "Python 3",
   "language": "python",
   "name": "python3"
  },
  "language_info": {
   "codemirror_mode": {
    "name": "ipython",
    "version": 3
   },
   "file_extension": ".py",
   "mimetype": "text/x-python",
   "name": "python",
   "nbconvert_exporter": "python",
   "pygments_lexer": "ipython3",
   "version": "3.6.5"
  },
  "learntools_metadata": {
   "lesson_index": 1,
   "type": "exercise"
  }
 },
 "nbformat": 4,
 "nbformat_minor": 1
}
